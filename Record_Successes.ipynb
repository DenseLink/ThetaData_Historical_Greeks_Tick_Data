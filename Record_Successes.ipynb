{
 "cells": [
  {
   "cell_type": "code",
   "execution_count": 4,
   "id": "5b0e23cc",
   "metadata": {},
   "outputs": [],
   "source": [
    "import os\n",
    "import datetime\n",
    "import json\n",
    "\n",
    "base_directory = \"H:\\\\Financial_Data\\\\Historical_data\"\n",
    "roots = [\"SPXW\", \"SPY\", \"UVXY\",\"SPX\",\"QQQ\",\"VIX\",\"CAT\"]  # Example roots, adjust as necessary\n",
    "#roots = [\"CAT\"]\n",
    "start_date = datetime.datetime(2022, 5, 11)\n",
    "end_date = datetime.datetime.now()\n",
    "date_list = [(start_date + datetime.timedelta(days=x)).strftime('%Y%m%d') for x in range((end_date - start_date).days + 1)]\n",
    "\n",
    "def find_matching_contracts_and_log_success(roots, base_directory, date_list):\n",
    "    all_matching_files = []  # To store all matching filenames across roots and dates\n",
    "    all_contract_details = []\n",
    "    for root in roots:\n",
    "        for date in date_list:\n",
    "            quotes_dir = os.path.join(base_directory, root, 'QUOTES', date)\n",
    "            iv_greeks_dir = os.path.join(base_directory, root, 'IV_Greeks', date)\n",
    "            success_dir = os.path.join(base_directory, root, 'Strike_History_Success', date)\n",
    "\n",
    "            # Ensure directories exist\n",
    "            if not os.path.exists(quotes_dir) or not os.path.exists(iv_greeks_dir):\n",
    "                continue  # Skip to the next date if directories do not exist\n",
    "\n",
    "            # List all files in directories for the current date\n",
    "            quotes_files = set(os.listdir(quotes_dir))\n",
    "            iv_greeks_files = set(os.listdir(iv_greeks_dir))\n",
    "\n",
    "            # Find matching contract names\n",
    "            matching_files = quotes_files.intersection(iv_greeks_files)\n",
    "            all_matching_files.extend([(date, file) for file in matching_files])  # Store with date for reference\n",
    "\n",
    "            # Process matching filenames and prepare for JSON logging\n",
    "            for filename in matching_files:\n",
    "                # Extract information from filename\n",
    "                parts = filename.split('_')\n",
    "                if len(parts) == 5:  # Assuming filename format is root_start_date_expiration_strike_right.json\n",
    "                    contract_info = {\n",
    "                        \"root\": parts[0],\n",
    "                        \"expiration\": parts[2],\n",
    "                        \"strike\": parts[3],\n",
    "                        \"right\": parts[4].split('.')[0],  # Remove file extension\n",
    "                        \"start_date\": parts[1],\n",
    "                        \"end_date\":parts[1], \n",
    "                    }\n",
    "                    # Here you can log to JSON or do further processing\n",
    "                    #print(contract_info)  # For demonstration\n",
    "                    all_contract_details.append(contract_info)\n",
    "    \n",
    "\n",
    "     # Group by root and start_date, then save\n",
    "    for contract_info in all_contract_details:\n",
    "        success_folder_path = os.path.join(base_directory, contract_info[\"root\"], 'Strike_History_Success', contract_info[\"start_date\"])\n",
    "        if not os.path.exists(success_folder_path):\n",
    "            os.makedirs(success_folder_path)\n",
    "\n",
    "        file_path = os.path.join(success_folder_path, 'Completed_log.json')\n",
    "        \n",
    "        # Check if the file exists and load existing data if it does\n",
    "        if os.path.exists(file_path):\n",
    "            with open(file_path, 'r') as file:\n",
    "                #print(file_path)\n",
    "                data = json.load(file)\n",
    "        else:\n",
    "            data = []\n",
    "\n",
    "        # Add contract info if it's not already in the file\n",
    "        if contract_info not in data:\n",
    "            data.append(contract_info)\n",
    "            with open(file_path, 'w') as file:\n",
    "                json.dump(data, file, indent=4)\n",
    "    \n",
    "    return\n",
    "\n",
    "# Call the function\n",
    "matching_files = find_matching_contracts_and_log_success(roots, base_directory, date_list)\n",
    "#print(matching_files)"
   ]
  },
  {
   "cell_type": "code",
   "execution_count": 5,
   "id": "6ef6cc2b",
   "metadata": {},
   "outputs": [
    {
     "name": "stdout",
     "output_type": "stream",
     "text": [
      "complete\n"
     ]
    }
   ],
   "source": [
    "print(\"complete\")"
   ]
  },
  {
   "cell_type": "code",
   "execution_count": null,
   "id": "01247d26",
   "metadata": {},
   "outputs": [],
   "source": []
  },
  {
   "cell_type": "code",
   "execution_count": null,
   "id": "8bc619ed",
   "metadata": {},
   "outputs": [],
   "source": []
  },
  {
   "cell_type": "code",
   "execution_count": null,
   "id": "b52f9702",
   "metadata": {},
   "outputs": [],
   "source": []
  },
  {
   "cell_type": "code",
   "execution_count": null,
   "id": "07baf695",
   "metadata": {},
   "outputs": [],
   "source": []
  },
  {
   "cell_type": "code",
   "execution_count": null,
   "id": "be3aa1a7",
   "metadata": {},
   "outputs": [],
   "source": []
  },
  {
   "cell_type": "code",
   "execution_count": null,
   "id": "c5882986",
   "metadata": {},
   "outputs": [],
   "source": []
  },
  {
   "cell_type": "code",
   "execution_count": null,
   "id": "22b9b944",
   "metadata": {},
   "outputs": [],
   "source": []
  }
 ],
 "metadata": {
  "kernelspec": {
   "display_name": "Python 3 (ipykernel)",
   "language": "python",
   "name": "python3"
  },
  "language_info": {
   "codemirror_mode": {
    "name": "ipython",
    "version": 3
   },
   "file_extension": ".py",
   "mimetype": "text/x-python",
   "name": "python",
   "nbconvert_exporter": "python",
   "pygments_lexer": "ipython3",
   "version": "3.9.7"
  }
 },
 "nbformat": 4,
 "nbformat_minor": 5
}
